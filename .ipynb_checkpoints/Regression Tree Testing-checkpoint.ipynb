{
 "cells": [
  {
   "cell_type": "code",
   "execution_count": 52,
   "metadata": {
    "collapsed": false
   },
   "outputs": [],
   "source": [
    "import sys\n",
    "reload(sys)\n",
    "sys.setdefaultencoding('utf8')\n",
    "%matplotlib inline\n",
    "import matplotlib.pyplot as plt \n",
    "import numpy as np\n",
    "import time\n",
    "import dlib\n",
    "import numpy as np\n",
    "import random\n",
    "import math\n",
    "import pickle\n",
    "import unittest\n",
    "import stripped_faceDetection as fd\n",
    "import cv2"
   ]
  },
  {
   "cell_type": "code",
   "execution_count": 3,
   "metadata": {
    "collapsed": false
   },
   "outputs": [],
   "source": [
    "X = np.array([[84, 238], [87, 270], [94, 300], [101, 330], [110, 358], [126, 383], [148, 404], [172, 420], [199, 426], [226, 420], [251, 405], [273, 385], [290, 360], [299, 332], [306, 301], [312, 270], [314, 239], [102, 221], [118, 209], [138, 207], [158, 211], [177, 220], [224, 219], [243, 211], [263, 207], [282, 210], [297, 221], [200, 245], [200, 266], [200, 287], [200, 308], [179, 321], [189, 325], [200, 328], [211, 325], [221, 321], [126, 246], [139, 238], [155, 239], [169, 252], [154, 254], [137, 254], [232, 252], [245, 239], [261, 238], [274, 246], [263, 254], [247, 254], [157, 360], [174, 354], [189, 350], [200, 353], [211, 350], [226, 354], [243, 360], [226, 372], [212, 378], [200, 379], [188, 378], [174, 372], [165, 361], [189, 362], [200, 363], [211, 362], [236, 361], [211, 361], [200, 362], [189, 361]])\n",
    "Y = np.array([[162, 248], [164, 283], [167, 319], [174, 352], [190, 382], [218, 404], [251, 421], [282, 434], [311, 437], [337, 429], [356, 406], [374, 381], [389, 354], [397, 325], [401, 295], [401, 265], [399, 236], [197, 221], [217, 205], [242, 201], [267, 206], [291, 215], [323, 214], [342, 206], [362, 200], [381, 201], [393, 216], [309, 234], [311, 254], [314, 275], [316, 297], [285, 311], [298, 315], [313, 318], [325, 314], [335, 310], [227, 238], [241, 230], [258, 230], [272, 241], [257, 243], [240, 243], [331, 239], [343, 227], [358, 227], [370, 234], [360, 241], [345, 241], [250, 346], [275, 342], [298, 338], [311, 340], [324, 337], [341, 341], [358, 342], [342, 367], [326, 380], [311, 383], [296, 382], [274, 373], [257, 349], [297, 344], [311, 345], [324, 343], [351, 344], [325, 364], [311, 367], [297, 366]])\n",
    "arr=np.array([[0,0],\n",
    "            [0,1],\n",
    "            [1,1],\n",
    "            [1,2],\n",
    "            [1,3],\n",
    "            [1,4],\n",
    "            [2,4],\n",
    "            [3,4],\n",
    "            [4,4],\n",
    "            [1,0]])\n",
    "u = [400, 300]\n",
    "# arr = arr[:2]\n",
    "theta = 70\n",
    "scale = 2.5\n",
    "offset = [2.5,1.5] # [0,0] # [2.5,1.5]\n",
    "R = np.array([[math.cos(math.pi*theta/180), -math.sin(math.pi*theta/180)],\n",
    "             [math.sin(math.pi*theta/180), math.cos(math.pi*theta/180)]])\n",
    "rotated_arr = scale * np.transpose(np.dot(R, np.transpose(arr - offset)))\n",
    "zero = np.array([0,0])\n",
    "# print \"=============\"\n",
    "# for i in range(len(arr)):\n",
    "#     print np.linalg.norm(arr[i] - [2.5, 1.5] - zero), \" \", np.linalg.norm(rotated_arr[i] - zero)\n",
    "#     print np.linalg.norm(arr[i] - arr[(i+1)%len(arr)]), \" \", np.linalg.norm(rotated_arr[i] - rotated_arr[(i+1)%len(arr)])\n",
    "\n",
    "# center_w = np.sum(X, 0)*1./len(X)\n",
    "# center_v = np.sum(Y, 0)*1./len(Y)\n",
    "# X -= center_w\n",
    "# Y -= center_v"
   ]
  },
  {
   "cell_type": "code",
   "execution_count": 5,
   "metadata": {
    "collapsed": false
   },
   "outputs": [
    {
     "data": {
      "text/plain": [
       "(0.93618390923350969, array([[ 0.99823179, -0.05944148],\n",
       "        [ 0.05944148,  0.99823179]]), array([-65.94059809,   7.58046309]))"
      ]
     },
     "execution_count": 5,
     "metadata": {},
     "output_type": "execute_result"
    }
   ],
   "source": [
    "transform = fd.calculateSimilarityTransform(X, Y)\n",
    "transform"
   ]
  },
  {
   "cell_type": "code",
   "execution_count": 49,
   "metadata": {
    "collapsed": false
   },
   "outputs": [
    {
     "data": {
      "text/plain": [
       "array([-9.50488597, -0.53117107])"
      ]
     },
     "execution_count": 49,
     "metadata": {},
     "output_type": "execute_result"
    }
   ],
   "source": [
    "def closest(node, nodes):\n",
    "    nodes = np.asarray(nodes)\n",
    "    deltas = nodes - node\n",
    "    dist_2 = np.einsum('ij,ij->i', deltas, deltas)\n",
    "    print node\n",
    "    print nodes\n",
    "    print dist_2\n",
    "    print np.argmin(dist_2)\n",
    "    return np.argmin(dist_2)\n",
    "def warpPoint(u, X, Y, similarityTransform):\n",
    "    S, R, t = similarityTransform # global indexing\n",
    "    k_u = closest(u, X) # local indexing\n",
    "    delta_x_u = u - X[k_u]\n",
    "    print delta_x_u\n",
    "    print Y[k_u]\n",
    "    transformed_offset = 1./S * np.dot(np.transpose(R), delta_x_u)\n",
    "    print transformed_offset\n",
    "    print Y[k_u] + 1./S * np.dot(np.transpose(R), delta_x_u)\n",
    "    print Y[k_u] - Y[k_u-1]\n",
    "    print Y[k_u] + Y[k_u] - Y[k_u-1]\n",
    "    u1 = Y[k_u] + 1./S * np.dot(np.transpose(R), np.transpose(delta_x_u))\n",
    "    rotated_offset = S * np.transpose(np.dot(R, np.transpose(transformed_offset)))\n",
    "    print rotated_offset\n",
    "    return u1\n",
    "# Y2 = fd.applyTransform(transform, Y) + transform[2]\n",
    "# u1 = warpPoint(u, transform)\n",
    "print \"---------------\"\n",
    "arr_u = [1, 5]\n",
    "arr_u1 = warpPoint(arr_u, arr, rotated_arr, arr_transform)\n",
    "arr_u1"
   ]
  },
  {
   "cell_type": "code",
   "execution_count": 50,
   "metadata": {
    "collapsed": false
   },
   "outputs": [
    {
     "data": {
      "image/png": "[encoded data removed]",
      "text/plain": [
       "<matplotlib.figure.Figure at 0x10fd45590>"
      ]
     },
     "metadata": {},
     "output_type": "display_data"
    }
   ],
   "source": [
    "fig = plt.figure()\n",
    "fig.set_size_inches(10, 6)\n",
    "plt.gca().set_aspect('equal', adjustable='box')\n",
    "ax = fig.add_subplot(1,1,1)\n",
    "ax.grid(True, which='both')\n",
    "ax.axhline(y=0, color='k')\n",
    "ax.axvline(x=0, color='k')\n",
    "def show(points, c):\n",
    "    ax = fig.add_subplot(1, 1, 1)\n",
    "    ax.scatter(points[:,0], points[:,1], color=c)\n",
    "# Y2 = np.append(Y2, np.array(u1))\n",
    "# Y2 = np.reshape(Y2, (-1, 2))\n",
    "# rotated_arr2 = np.append(rotated_arr2, np.array(arr_u1))\n",
    "# rotated_arr2 = np.reshape(rotated_arr2, (-1, 2))\n",
    "# show(X, 'r')\n",
    "# show(Y, 'g')\n",
    "# show(Y2, 'b')\n",
    "# rotated_arr2 = rotated_arr2[:-1]\n",
    "show(arr, 'r')\n",
    "show(rotated_arr, 'g')\n",
    "show(rotated_arr2, 'b') # show(rotated_arr2 + arr_transform[2], 'b')\n",
    "plt.show()\n",
    "# x, x1, X"
   ]
  },
  {
   "cell_type": "code",
   "execution_count": 47,
   "metadata": {
    "collapsed": false
   },
   "outputs": [],
   "source": [
    "arr_transform = fd.calculateSimilarityTransform(arr, rotated_arr)\n",
    "rotated_offset = np.transpose(np.dot(R, np.transpose(offset)))\n",
    "rotated_arr2 = fd.applyTransform(arr_transform, rotated_arr)"
   ]
  },
  {
   "cell_type": "code",
   "execution_count": 48,
   "metadata": {
    "collapsed": false
   },
   "outputs": [
    {
     "data": {
      "text/plain": [
       "(0.39999999999999997, array([[ 0.34202014,  0.93969262],\n",
       "        [-0.93969262,  0.34202014]]), array([ 2.5,  1.5]))"
      ]
     },
     "execution_count": 48,
     "metadata": {},
     "output_type": "execute_result"
    }
   ],
   "source": [
    "arr_transform"
   ]
  },
  {
   "cell_type": "code",
   "execution_count": 11,
   "metadata": {
    "collapsed": false
   },
   "outputs": [
    {
     "data": {
      "text/plain": [
       "70.0"
      ]
     },
     "execution_count": 11,
     "metadata": {},
     "output_type": "execute_result"
    }
   ],
   "source": [
    "math.acos(arr_transform[1][0][0])*180/math.pi"
   ]
  },
  {
   "cell_type": "code",
   "execution_count": 12,
   "metadata": {
    "collapsed": false
   },
   "outputs": [
    {
     "data": {
      "text/plain": [
       "(0.39999999999999997, array([[ 0.34202014,  0.93969262],\n",
       "        [-0.93969262,  0.34202014]]), array([ 2.5,  1.5]))"
      ]
     },
     "execution_count": 12,
     "metadata": {},
     "output_type": "execute_result"
    }
   ],
   "source": [
    "def calculateSimilarityTransform(w, v):\n",
    "    ''' Calculate similarity transform for a given face estimate '''\n",
    "    center_w = np.sum(w, 0)*1./len(w)\n",
    "    center_v = np.sum(v, 0)*1./len(v)\n",
    "    B = np.dot(np.transpose(w - center_w), v - center_v) *1./len(w)\n",
    "    U, s, V1 = np.linalg.svd(B)\n",
    "    m = np.shape(U)[0]\n",
    "    n = np.shape(V1)[1]\n",
    "    S = np.zeros((m, n))\n",
    "    S[:n, :n] = np.diag(s)\n",
    "    M = np.zeros((m, n))\n",
    "    if np.linalg.det(B) >= 0:\n",
    "        M = np.identity(n)\n",
    "    else:\n",
    "        M[:n, :n] = np.diag(np.append(np.ones(n - 1), 1))\n",
    "    R = np.dot(U, np.dot(M, V1))\n",
    "    var = 1./len(v) * np.sum(np.linalg.norm((v - center_v), axis=1)**2)\n",
    "    varw = 1./len(w) * np.sum(np.linalg.norm((w - center_w), axis=1)**2)\n",
    "    c = 1./var*np.trace(np.dot(S, M))\n",
    "    t = np.transpose(np.transpose(center_w) - c * np.dot(R, np.transpose(center_v)))\n",
    "    return c, R, t\n",
    "calculateSimilarityTransform(arr, rotated_arr)"
   ]
  },
  {
   "cell_type": "code",
   "execution_count": 13,
   "metadata": {
    "collapsed": false
   },
   "outputs": [
    {
     "data": {
      "text/plain": [
       "(array([[ 1.75 ,  3.5  ],\n",
       "        [-1.25 , -0.875]]), array([[ 1.75 ,  3.5  ],\n",
       "        [-1.25 , -0.875]]))"
      ]
     },
     "execution_count": 13,
     "metadata": {},
     "output_type": "execute_result"
    }
   ],
   "source": [
    "p = [(0, 3), (5, 1), (3, 4), (0, 5)]\n",
    "p2 = [(1, 0), (4, 6), (1, 4), (2, 4)]\n",
    "mu = np.sum(p, 0)*1./len(p)\n",
    "mu2 = np.sum(p2, 0)*1./len(p2)\n",
    "B = np.dot(np.transpose(p - mu), p2 - mu2)\n",
    "B /= len(p)\n",
    "C = np.zeros((2, 2))\n",
    "for i in range(len(p)):\n",
    "    a = np.reshape(np.transpose(p[i] - mu), (2, 1))\n",
    "    a2 = np.reshape(np.transpose(p2[i] - mu2), (2, 1))\n",
    "#     C += np.dot(np.transpose(p[i] - mu), p2[i] - mu2)\n",
    "    C += np.dot(a, np.transpose(a2))\n",
    "C /= len(p)\n",
    "B, C"
   ]
  },
  {
   "cell_type": "code",
   "execution_count": null,
   "metadata": {
    "collapsed": true
   },
   "outputs": [],
   "source": []
  }
 ],
 "metadata": {
  "kernelspec": {
   "display_name": "Python 2",
   "language": "python",
   "name": "python2"
  },
  "language_info": {
   "codemirror_mode": {
    "name": "ipython",
    "version": 2
   },
   "file_extension": ".py",
   "mimetype": "text/x-python",
   "name": "python",
   "nbconvert_exporter": "python",
   "pygments_lexer": "ipython2",
   "version": "2.7.10"
  }
 },
 "nbformat": 4,
 "nbformat_minor": 0
}
